{
 "cells": [
  {
   "cell_type": "code",
   "execution_count": 1,
   "id": "5058e960",
   "metadata": {},
   "outputs": [],
   "source": [
    "import pandas as pd"
   ]
  },
  {
   "cell_type": "code",
   "execution_count": 5,
   "id": "29cccaf3",
   "metadata": {},
   "outputs": [],
   "source": [
    "ratings_cols = ['user_id', 'item_id', 'rating', 'timestamp']\n",
    "ratings = pd.read_csv(\"E:/intelligent programming/collaborative_filtering_recommender/data/ml-100k/u.data\", sep='\\t', names=ratings_cols)"
   ]
  },
  {
   "cell_type": "code",
   "execution_count": 6,
   "id": "7dde098e",
   "metadata": {},
   "outputs": [],
   "source": [
    "movies_cols = ['item_id', 'movie_title', 'release_date', 'video_release_date', 'IMDb_URL'] + [f'genre_{i}' for i in range(19)]\n",
    "movies = pd.read_csv(\"E:/intelligent programming/collaborative_filtering_recommender/data/ml-100k/u.item\", sep='|', names=movies_cols, encoding='latin-1')"
   ]
  },
  {
   "cell_type": "code",
   "execution_count": 8,
   "id": "06496242",
   "metadata": {},
   "outputs": [
    {
     "name": "stdout",
     "output_type": "stream",
     "text": [
      "Ratings shape: (100000, 6)\n",
      "Sample ratings:\n",
      "    user_id  item_id  rating  timestamp               movie_title_x  \\\n",
      "0      196      242       3  881250949                Kolya (1996)   \n",
      "1      186      302       3  891717742    L.A. Confidential (1997)   \n",
      "2       22      377       1  878887116         Heavyweights (1994)   \n",
      "3      244       51       2  880606923  Legends of the Fall (1994)   \n",
      "4      166      346       1  886397596         Jackie Brown (1997)   \n",
      "\n",
      "                movie_title_y  \n",
      "0                Kolya (1996)  \n",
      "1    L.A. Confidential (1997)  \n",
      "2         Heavyweights (1994)  \n",
      "3  Legends of the Fall (1994)  \n",
      "4         Jackie Brown (1997)  \n"
     ]
    }
   ],
   "source": [
    "ratings = ratings.merge(movies[['item_id', 'movie_title']], on='item_id')\n",
    "print(\"Ratings shape:\", ratings.shape)\n",
    "print(\"Sample ratings:\\n\", ratings.head())"
   ]
  },
  {
   "cell_type": "code",
   "execution_count": 10,
   "id": "ffb219bb",
   "metadata": {},
   "outputs": [],
   "source": [
    "ratings.to_csv('data processed_ratings.csv', index=False)"
   ]
  }
 ],
 "metadata": {
  "kernelspec": {
   "display_name": "Python 3",
   "language": "python",
   "name": "python3"
  },
  "language_info": {
   "codemirror_mode": {
    "name": "ipython",
    "version": 3
   },
   "file_extension": ".py",
   "mimetype": "text/x-python",
   "name": "python",
   "nbconvert_exporter": "python",
   "pygments_lexer": "ipython3",
   "version": "3.13.2"
  }
 },
 "nbformat": 4,
 "nbformat_minor": 5
}
